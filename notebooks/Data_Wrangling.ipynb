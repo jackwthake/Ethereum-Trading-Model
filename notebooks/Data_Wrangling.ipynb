{
 "cells": [
  {
   "cell_type": "markdown",
   "metadata": {},
   "source": [
    "# Data Wrangling\n",
    "The goal of this notebook is to wrangle the Ethereum-USD Coin pricing data into a workable format to then feed to machine learning algorithms further down the road."
   ]
  },
  {
   "cell_type": "code",
   "execution_count": 24,
   "metadata": {},
   "outputs": [],
   "source": [
    "import pandas as pd\n",
    "from datetime import datetime"
   ]
  },
  {
   "cell_type": "markdown",
   "metadata": {},
   "source": [
    "### Load data into pandas and some preliminary data analasys"
   ]
  },
  {
   "cell_type": "code",
   "execution_count": 13,
   "metadata": {},
   "outputs": [
    {
     "name": "stdout",
     "output_type": "stream",
     "text": [
      "<class 'pandas.core.frame.DataFrame'>\n",
      "RangeIndex: 1988921 entries, 0 to 1988920\n",
      "Data columns (total 10 columns):\n",
      " #   Column                        Dtype         \n",
      "---  ------                        -----         \n",
      " 0   open_time                     datetime64[ns]\n",
      " 1   open                          float32       \n",
      " 2   high                          float32       \n",
      " 3   low                           float32       \n",
      " 4   close                         float32       \n",
      " 5   volume                        float32       \n",
      " 6   quote_asset_volume            float32       \n",
      " 7   number_of_trades              uint16        \n",
      " 8   taker_buy_base_asset_volume   float32       \n",
      " 9   taker_buy_quote_asset_volume  float32       \n",
      "dtypes: datetime64[ns](1), float32(8), uint16(1)\n",
      "memory usage: 79.7 MB\n"
     ]
    }
   ],
   "source": [
    "df = pd.read_parquet('../data/raw/ETH-USDC.parquet')\n",
    "df.reset_index(drop=False, inplace=True)\n",
    "df.info()"
   ]
  },
  {
   "cell_type": "markdown",
   "metadata": {},
   "source": [
    "Do we have any Nan Values?"
   ]
  },
  {
   "cell_type": "code",
   "execution_count": 14,
   "metadata": {},
   "outputs": [
    {
     "data": {
      "text/plain": [
       "open_time                       1988921\n",
       "open                            1988921\n",
       "high                            1988921\n",
       "low                             1988921\n",
       "close                           1988921\n",
       "volume                          1988921\n",
       "quote_asset_volume              1988921\n",
       "number_of_trades                1988921\n",
       "taker_buy_base_asset_volume     1988921\n",
       "taker_buy_quote_asset_volume    1988921\n",
       "dtype: int64"
      ]
     },
     "execution_count": 14,
     "metadata": {},
     "output_type": "execute_result"
    }
   ],
   "source": [
    "df.count()"
   ]
  },
  {
   "cell_type": "markdown",
   "metadata": {},
   "source": [
    "No missing Values, atleast no Nan Values."
   ]
  },
  {
   "cell_type": "code",
   "execution_count": 15,
   "metadata": {},
   "outputs": [
    {
     "data": {
      "text/html": [
       "<div>\n",
       "<style scoped>\n",
       "    .dataframe tbody tr th:only-of-type {\n",
       "        vertical-align: middle;\n",
       "    }\n",
       "\n",
       "    .dataframe tbody tr th {\n",
       "        vertical-align: top;\n",
       "    }\n",
       "\n",
       "    .dataframe thead th {\n",
       "        text-align: right;\n",
       "    }\n",
       "</style>\n",
       "<table border=\"1\" class=\"dataframe\">\n",
       "  <thead>\n",
       "    <tr style=\"text-align: right;\">\n",
       "      <th></th>\n",
       "      <th>open_time</th>\n",
       "      <th>open</th>\n",
       "      <th>high</th>\n",
       "      <th>low</th>\n",
       "      <th>close</th>\n",
       "      <th>volume</th>\n",
       "      <th>quote_asset_volume</th>\n",
       "      <th>number_of_trades</th>\n",
       "      <th>taker_buy_base_asset_volume</th>\n",
       "      <th>taker_buy_quote_asset_volume</th>\n",
       "    </tr>\n",
       "  </thead>\n",
       "  <tbody>\n",
       "    <tr>\n",
       "      <th>0</th>\n",
       "      <td>2018-12-15 03:21:00</td>\n",
       "      <td>84.190002</td>\n",
       "      <td>84.190002</td>\n",
       "      <td>84.190002</td>\n",
       "      <td>84.190002</td>\n",
       "      <td>0.13448</td>\n",
       "      <td>11.321871</td>\n",
       "      <td>1</td>\n",
       "      <td>0.13448</td>\n",
       "      <td>11.321871</td>\n",
       "    </tr>\n",
       "    <tr>\n",
       "      <th>1</th>\n",
       "      <td>2018-12-15 03:22:00</td>\n",
       "      <td>84.190002</td>\n",
       "      <td>84.190002</td>\n",
       "      <td>84.190002</td>\n",
       "      <td>84.190002</td>\n",
       "      <td>0.00000</td>\n",
       "      <td>0.000000</td>\n",
       "      <td>0</td>\n",
       "      <td>0.00000</td>\n",
       "      <td>0.000000</td>\n",
       "    </tr>\n",
       "  </tbody>\n",
       "</table>\n",
       "</div>"
      ],
      "text/plain": [
       "            open_time       open       high        low      close   volume  \\\n",
       "0 2018-12-15 03:21:00  84.190002  84.190002  84.190002  84.190002  0.13448   \n",
       "1 2018-12-15 03:22:00  84.190002  84.190002  84.190002  84.190002  0.00000   \n",
       "\n",
       "   quote_asset_volume  number_of_trades  taker_buy_base_asset_volume  \\\n",
       "0           11.321871                 1                      0.13448   \n",
       "1            0.000000                 0                      0.00000   \n",
       "\n",
       "   taker_buy_quote_asset_volume  \n",
       "0                     11.321871  \n",
       "1                      0.000000  "
      ]
     },
     "execution_count": 15,
     "metadata": {},
     "output_type": "execute_result"
    }
   ],
   "source": [
    "df.head(2)"
   ]
  }
 ],
 "metadata": {
  "kernelspec": {
   "display_name": "Python 3",
   "language": "python",
   "name": "python3"
  },
  "language_info": {
   "codemirror_mode": {
    "name": "ipython",
    "version": 3
   },
   "file_extension": ".py",
   "mimetype": "text/x-python",
   "name": "python",
   "nbconvert_exporter": "python",
   "pygments_lexer": "ipython3",
   "version": "3.10.8"
  },
  "orig_nbformat": 4
 },
 "nbformat": 4,
 "nbformat_minor": 2
}
